{
 "cells": [
  {
   "cell_type": "code",
   "execution_count": 18,
   "id": "e40009e8",
   "metadata": {},
   "outputs": [],
   "source": [
    "import os\n",
    "from pathlib import Path\n",
    "\n",
    "from typing import Literal\n",
    "from tempfile import gettempdir, NamedTemporaryFile\n",
    "\n",
    "import datamol as dm\n",
    "from rdkit import Chem\n",
    "from rdkit.Chem import AllChem\n",
    "from rdkit.Chem import rdDepictor\n",
    "\n",
    "from scrubber import Scrub\n",
    "from prody import parsePDB, writePDB, calcCenter"
   ]
  },
  {
   "cell_type": "code",
   "execution_count": 19,
   "id": "74435a08",
   "metadata": {},
   "outputs": [],
   "source": [
    "def cdpk_fixer(input_sdf: Path, mode: Literal[\"Dock\", \"Minimize\"]) -> Path:\n",
    "    \"\"\"\n",
    "    Fix ligand structures using CDPK utilities.\n",
    "\n",
    "    Args:\n",
    "        input_sdf: Path to the input SDF file\n",
    "        mode: Mode of operation, either \"Dock\" or \"Minimize\"\n",
    "\n",
    "    Returns:\n",
    "        Path to the fixed SDF file\n",
    "\n",
    "    Raises:\n",
    "        ValueError: If mode is not \"Dock\" or \"Minimize\"\n",
    "        FileNotFoundError: If input SDF file doesn't exist\n",
    "    \"\"\"\n",
    "    if mode not in [\"Dock\", \"Minimize\"]:\n",
    "        raise ValueError(\"Mode must be either 'Dock' or 'Minimize'\")\n",
    "        \n",
    "    if not input_sdf.exists():\n",
    "        raise FileNotFoundError(f\"Input SDF file not found: {input_sdf}\")\n",
    "    \n",
    "    try:\n",
    "        TMP_fixed_sdf: _TemporaryFileWrapper[bytes] = NamedTemporaryFile(suffix=\".sdf\", delete=False)\n",
    "        \n",
    "        if mode == \"Dock\":\n",
    "            cdpk_runner = CDPK_Runner(standardize=True, protonate=True, gen3d=True)\n",
    "            cdpk_runner.prepare_ligands(input_sdf, TMP_fixed_sdf.name)\n",
    "            \n",
    "        elif mode == \"Minimize\":\n",
    "            cdpk_runner = CDPK_Runner(standardize=True, protonate=True, gen3d=False)\n",
    "            cdpk_runner.prepare_ligands(input_sdf, TMP_fixed_sdf.name)\n",
    "            \n",
    "        logger.info(f\"CDPK fixed ligands saved to: {TMP_fixed_sdf.name}\")\n",
    "        return Path(TMP_fixed_sdf.name)\n",
    "        \n",
    "    except Exception as e:\n",
    "        if TMP_fixed_sdf and os.path.exists(TMP_fixed_sdf.name):\n",
    "            os.unlink(TMP_fixed_sdf.name)\n",
    "        raise RuntimeError(f\"Error in CDPK fixer: {e}\") from e"
   ]
  },
  {
   "cell_type": "code",
   "execution_count": 20,
   "id": "11aa9988",
   "metadata": {},
   "outputs": [],
   "source": [
    "def meeko_fixer(input_sdf: Path, mode: Literal[\"Dock\", \"Minimize\"]) -> Path:\n",
    "    \"\"\"\n",
    "    Fix ligand structures using Meeko/Scrub for protonation.\n",
    "\n",
    "    Args:\n",
    "        input_sdf: Path to the input SDF file\n",
    "        mode: Mode of operation, either \"Dock\" or \"Minimize\" (parameter maintained for compatibility)\n",
    "\n",
    "    Returns:\n",
    "        Path to the fixed SDF file\n",
    "\n",
    "    Raises:\n",
    "        ValueError: If mode is not \"Dock\" or \"Minimize\"\n",
    "        FileNotFoundError: If input SDF file doesn't exist\n",
    "    \"\"\"\n",
    "    if mode not in [\"Dock\", \"Minimize\"]:\n",
    "        raise ValueError(\"Mode must be either 'Dock' or 'Minimize'\")\n",
    "        \n",
    "    if not input_sdf.exists():\n",
    "        raise FileNotFoundError(f\"Input SDF file not found: {input_sdf}\")\n",
    "    \n",
    "    try:\n",
    "        TMP_fixed_sdf: _TemporaryFileWrapper[bytes] = NamedTemporaryFile(suffix=\".sdf\", delete=False)\n",
    "        \n",
    "        # Mode parameter is kept for API compatibility but doesn't affect functionality\n",
    "        # in this implementation\n",
    "        \n",
    "        scrub = Scrub(\n",
    "            ph_low=7.2,  # Default pH\n",
    "            ph_high=7.4,\n",
    "        )\n",
    "        \n",
    "        # Read molecule from SDF\n",
    "        mol = Chem.SDMolSupplier(str(input_sdf))[0]\n",
    "        \n",
    "        if mol is None:\n",
    "            raise ValueError(f\"Could not read molecule from {input_sdf}\")\n",
    "        \n",
    "        mols_states = []\n",
    "        for mol_state in scrub(mol):\n",
    "            mols_states.append(mol_state)\n",
    "        \n",
    "        best_mol_state = mols_states[0]\n",
    "        dm.to_sdf(best_mol_state, TMP_fixed_sdf.name)\n",
    "        \n",
    "        return Path(TMP_fixed_sdf.name)\n",
    "        \n",
    "    except Exception as e:\n",
    "        if TMP_fixed_sdf and os.path.exists(TMP_fixed_sdf.name):\n",
    "            os.unlink(TMP_fixed_sdf.name)\n",
    "        raise RuntimeError(f\"Error in Meeko fixer: {e}\") from e"
   ]
  },
  {
   "cell_type": "code",
   "execution_count": 21,
   "id": "d657e8f7",
   "metadata": {},
   "outputs": [],
   "source": [
    "probe = \"C1C(C(O)=O)=CN2C=CN=C2C=1C(C)C(CC)C\"\n",
    "probe = dm.to_mol(probe)\n",
    "\n",
    "with NamedTemporaryFile(suffix=\".sdf\", delete=False) as tmp_sdf:\n",
    "    dm.to_sdf(probe, tmp_sdf.name)"
   ]
  },
  {
   "cell_type": "code",
   "execution_count": 22,
   "id": "37f77bd7",
   "metadata": {},
   "outputs": [
    {
     "data": {
      "text/plain": [
       "PosixPath('/tmp/tmpjp0ftbia.sdf')"
      ]
     },
     "execution_count": 22,
     "metadata": {},
     "output_type": "execute_result"
    }
   ],
   "source": [
    "meeko_fixer(Path(tmp_sdf.name), \"Dock\")"
   ]
  },
  {
   "cell_type": "code",
   "execution_count": null,
   "id": "06179246",
   "metadata": {},
   "outputs": [],
   "source": []
  },
  {
   "cell_type": "code",
   "execution_count": null,
   "id": "22db5d13",
   "metadata": {},
   "outputs": [],
   "source": []
  },
  {
   "cell_type": "code",
   "execution_count": null,
   "id": "14b33fba",
   "metadata": {},
   "outputs": [],
   "source": []
  }
 ],
 "metadata": {
  "kernelspec": {
   "display_name": "cheminf_3_11",
   "language": "python",
   "name": "python3"
  },
  "language_info": {
   "codemirror_mode": {
    "name": "ipython",
    "version": 3
   },
   "file_extension": ".py",
   "mimetype": "text/x-python",
   "name": "python",
   "nbconvert_exporter": "python",
   "pygments_lexer": "ipython3",
   "version": "3.11.8"
  }
 },
 "nbformat": 4,
 "nbformat_minor": 5
}
