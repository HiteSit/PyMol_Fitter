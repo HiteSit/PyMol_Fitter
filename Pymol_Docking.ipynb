{
 "cells": [
  {
   "cell_type": "code",
   "execution_count": 1,
   "id": "initial_id",
   "metadata": {
    "ExecuteTime": {
     "end_time": "2024-09-04T16:02:09.457494Z",
     "start_time": "2024-09-04T16:02:08.790175Z"
    },
    "collapsed": true
   },
   "outputs": [],
   "source": [
    "import os\n",
    "import shutil\n",
    "import glob\n",
    "import logging\n",
    "import pathlib\n",
    "from pathlib import Path\n",
    "from tempfile import gettempdir, NamedTemporaryFile\n",
    "from typing import List, Dict, Union\n",
    "\n",
    "import subprocess\n",
    "\n",
    "import pandas as pd\n",
    "import numpy as np\n",
    "\n",
    "import datamol as dm\n",
    "from rdkit import Chem\n",
    "from rdkit.Chem import AllChem\n",
    "from rdkit.Chem import PandasTools\n",
    "\n",
    "from openmm.app import PDBFile\n",
    "from pdbfixer import PDBFixer\n",
    "from pymol import cmd\n",
    "\n",
    "from openeye import oechem\n",
    "from openeye import oequacpac"
   ]
  },
  {
   "cell_type": "code",
   "execution_count": 2,
   "id": "89655efa17b17c2d",
   "metadata": {
    "ExecuteTime": {
     "end_time": "2024-09-04T16:02:09.461043Z",
     "start_time": "2024-09-04T16:02:09.458676Z"
    },
    "collapsed": false
   },
   "outputs": [],
   "source": [
    "logging.basicConfig(level=logging.DEBUG,\n",
    "                    format='%(asctime)s - %(name)s - %(levelname)s - %(message)s',\n",
    "                    handlers=[\n",
    "                        logging.StreamHandler()\n",
    "                    ])\n",
    "logger = logging.getLogger(__name__)"
   ]
  },
  {
   "cell_type": "code",
   "execution_count": 3,
   "id": "b18630986536010f",
   "metadata": {
    "ExecuteTime": {
     "end_time": "2024-09-04T16:02:09.537254Z",
     "start_time": "2024-09-04T16:02:09.462205Z"
    },
    "collapsed": false
   },
   "outputs": [],
   "source": [
    "from Pymol_Docking import Plants_Docking\n",
    "from Pymol_Docking import Pymol_Docking"
   ]
  },
  {
   "cell_type": "code",
   "execution_count": null,
   "id": "65410d34",
   "metadata": {},
   "outputs": [],
   "source": [
    "pymol = Pymol_Docking(\"./LAC3.pdb\", \"c1ccccc1\")\n",
    "pymol.run_smina_docking(\"Dock\", \"XXX\")"
   ]
  },
  {
   "cell_type": "code",
   "execution_count": null,
   "id": "298304cd",
   "metadata": {},
   "outputs": [],
   "source": []
  },
  {
   "cell_type": "code",
   "execution_count": null,
   "id": "fb328b87",
   "metadata": {},
   "outputs": [],
   "source": []
  },
  {
   "cell_type": "code",
   "execution_count": 4,
   "id": "94e767a55676be77",
   "metadata": {
    "ExecuteTime": {
     "end_time": "2024-09-04T16:02:09.540928Z",
     "start_time": "2024-09-04T16:02:09.538734Z"
    },
    "collapsed": false
   },
   "outputs": [],
   "source": [
    "tests_dir = Path(\"./tests\")\n",
    "data_dir = tests_dir / \"sample_data\""
   ]
  },
  {
   "cell_type": "code",
   "execution_count": 5,
   "id": "e023c2817776785a",
   "metadata": {
    "ExecuteTime": {
     "end_time": "2024-09-04T16:02:09.549685Z",
     "start_time": "2024-09-04T16:02:09.542222Z"
    },
    "collapsed": false
   },
   "outputs": [],
   "source": [
    "protein_pdb = data_dir / \"LAC3.pdb\"\n",
    "protein_pdb = protein_pdb.absolute()\n",
    "\n",
    "ligands_sdf = data_dir / \"Ligand.sdf\"\n",
    "ligands_sdf = ligands_sdf.absolute()"
   ]
  },
  {
   "cell_type": "code",
   "execution_count": 6,
   "id": "f8272cf83a6405e2",
   "metadata": {
    "ExecuteTime": {
     "end_time": "2024-09-04T16:02:09.712229Z",
     "start_time": "2024-09-04T16:02:09.709216Z"
    },
    "collapsed": false
   },
   "outputs": [],
   "source": [
    "os.chdir(tests_dir)"
   ]
  },
  {
   "cell_type": "code",
   "execution_count": 7,
   "id": "de91d704",
   "metadata": {},
   "outputs": [],
   "source": [
    "pymol = Pymol_Docking(protein_pdb, ligands_sdf)"
   ]
  },
  {
   "cell_type": "code",
   "execution_count": null,
   "id": "f56450f3",
   "metadata": {},
   "outputs": [],
   "source": [
    "pymol.run_smina_docking(\"Dock\", \"XXX\")"
   ]
  },
  {
   "cell_type": "code",
   "execution_count": null,
   "id": "360f80a2",
   "metadata": {},
   "outputs": [],
   "source": []
  },
  {
   "cell_type": "code",
   "execution_count": null,
   "id": "88ec644d",
   "metadata": {},
   "outputs": [],
   "source": []
  },
  {
   "cell_type": "code",
   "execution_count": null,
   "id": "110ee41d",
   "metadata": {},
   "outputs": [],
   "source": []
  },
  {
   "cell_type": "code",
   "execution_count": null,
   "id": "1dd989ed",
   "metadata": {},
   "outputs": [],
   "source": []
  },
  {
   "cell_type": "code",
   "execution_count": 7,
   "id": "3411dd3fc75e1b45",
   "metadata": {
    "ExecuteTime": {
     "end_time": "2024-09-04T16:02:09.947199Z",
     "start_time": "2024-09-04T16:02:09.942576Z"
    },
    "collapsed": false
   },
   "outputs": [],
   "source": [
    "plants = Plants_Docking(protein_pdb, ligands_sdf)"
   ]
  },
  {
   "cell_type": "code",
   "execution_count": null,
   "id": "e33ce5692183db36",
   "metadata": {
    "ExecuteTime": {
     "end_time": "2024-09-04T16:02:12.528230Z",
     "start_time": "2024-09-04T16:02:10.106007Z"
    },
    "collapsed": false
   },
   "outputs": [],
   "source": [
    "plants.prepare_protein()"
   ]
  },
  {
   "cell_type": "code",
   "execution_count": null,
   "id": "18fd136ea7d15306",
   "metadata": {
    "ExecuteTime": {
     "end_time": "2024-09-04T16:02:12.570702Z",
     "start_time": "2024-09-04T16:02:12.529255Z"
    },
    "collapsed": false
   },
   "outputs": [],
   "source": [
    "plants.prepare_ligands()"
   ]
  },
  {
   "cell_type": "code",
   "execution_count": null,
   "id": "af84815193e84531",
   "metadata": {
    "collapsed": false
   },
   "outputs": [],
   "source": []
  },
  {
   "cell_type": "code",
   "execution_count": null,
   "id": "9b4b2eabf8fa1ffa",
   "metadata": {
    "collapsed": false
   },
   "outputs": [],
   "source": []
  },
  {
   "cell_type": "code",
   "execution_count": null,
   "id": "3e7c179b9e323908",
   "metadata": {
    "collapsed": false
   },
   "outputs": [],
   "source": []
  },
  {
   "cell_type": "code",
   "execution_count": null,
   "id": "dea56e86db2eea7d",
   "metadata": {
    "collapsed": false
   },
   "outputs": [],
   "source": []
  },
  {
   "cell_type": "code",
   "execution_count": null,
   "id": "a2a48c1004103d87",
   "metadata": {
    "collapsed": false
   },
   "outputs": [],
   "source": [
    "def openeye_fixer(oemol, explicit_H=True):\n",
    "\n",
    "    to_edit = oechem.OEGraphMol(oemol)\n",
    "    \n",
    "    oechem.OEDetermineConnectivity(to_edit)\n",
    "    oechem.OEFindRingAtomsAndBonds(to_edit)\n",
    "    oechem.OEPerceiveBondOrders(to_edit)\n",
    "    oechem.OEAssignImplicitHydrogens(to_edit)\n",
    "    oechem.OEAssignFormalCharges(to_edit)\n",
    "    \n",
    "    oechem.OEClearAromaticFlags(to_edit)\n",
    "    \n",
    "    oechem.OEFindRingAtomsAndBonds(to_edit)\n",
    "    oechem.OEAssignAromaticFlags(to_edit)\n",
    "    for bond in to_edit.GetBonds():\n",
    "        if bond.IsAromatic():\n",
    "            bond.SetIntType(5)\n",
    "        elif bond.GetOrder() != 0:\n",
    "            bond.SetIntType(bond.GetOrder())\n",
    "        else:\n",
    "            bond.SetIntType(1)\n",
    "    \n",
    "    oechem.OEKekulize(to_edit)\n",
    "    \n",
    "    if explicit_H:\n",
    "        oechem.OEAddExplicitHydrogens(to_edit)\n",
    "        oequacpac.OEGetReasonableProtomer(to_edit)\n",
    "    \n",
    "    return oechem.OEGraphMol(to_edit)"
   ]
  },
  {
   "cell_type": "code",
   "execution_count": null,
   "id": "adb91b7eee3fb015",
   "metadata": {
    "collapsed": false
   },
   "outputs": [],
   "source": [
    "class Pymol_Docking:\n",
    "    def __init__(self, protein_pdb: str, ligands_sdf: str):\n",
    "        self.workdir: Path = Path(os.getcwd())\n",
    "        self.protein_pdb: Path = Path(protein_pdb)\n",
    "        self.crystal_sdf: Path = Path(\"Crystal.sdf\")\n",
    "        \n",
    "        self.ligands_sdf: Path = Path(ligands_sdf)\n",
    "    \n",
    "    def prepare_protein(self) -> Path:\n",
    "        protein_basename: str = self.protein_pdb.stem\n",
    "        protein_PREP: Path = self.workdir / f\"{protein_basename}_PREP.pdb\"\n",
    "\n",
    "        fixer = PDBFixer(filename=str(self.protein_pdb))\n",
    "        fixer.removeHeterogens(keepWater=False)\n",
    "        fixer.findMissingResidues()\n",
    "        fixer.findMissingAtoms()\n",
    "        fixer.findNonstandardResidues()\n",
    "\n",
    "        fixer.addMissingAtoms()\n",
    "        fixer.addMissingHydrogens(7.4)\n",
    "\n",
    "        PDBFile.writeFile(fixer.topology, fixer.positions, open(protein_PREP.as_posix(), 'w'))\n",
    "        return protein_PREP\n",
    "    \n",
    "    @staticmethod\n",
    "    def fix_3d_mol(sdf_file: Path, TMP_basename: str) -> Path:\n",
    "        TMP_fixed_sdf = Path(gettempdir()) / f\"{TMP_basename}_fixed.sdf\"\n",
    "        \n",
    "        ifs = oechem.oemolistream()\n",
    "        ofs = oechem.oemolostream(TMP_fixed_sdf.as_posix())\n",
    "        \n",
    "        ifs.open(sdf_file.as_posix())\n",
    "        for oemol in ifs.GetOEGraphMols():\n",
    "            fixed_oemol = openeye_fixer(oemol)\n",
    "            oechem.OEWriteMolecule(ofs, fixed_oemol)\n",
    "        \n",
    "        return TMP_fixed_sdf\n",
    "    \n",
    "    def prepare_ligands(self):\n",
    "        fixed_crystal: Path = self.fix_3d_mol(self.crystal_sdf, \"crystal\")\n",
    "        fixed_ligands: Path = self.fix_3d_mol(self.ligands_sdf, \"ligand\")\n",
    "        \n",
    "        return fixed_ligands, fixed_crystal\n",
    "\n",
    "    def run_smina_docking(self, mode: str, docked_basename: str) -> Path:\n",
    "        # Fix the protein\n",
    "        print(\"Running protein preparation\")\n",
    "        protein_PKA: Path = self.prepare_protein()\n",
    "        \n",
    "        # Fix the ligands\n",
    "        fixed_ligands, fixed_crystal = self.prepare_ligands()\n",
    "        \n",
    "        # Define the output\n",
    "        smina_output: Path = self.workdir / f\"{docked_basename}.sdf\"\n",
    "        smina_log = smina_output.with_suffix(\".log\")\n",
    "        \n",
    "        smina_lst = [\n",
    "            \"smina\",\n",
    "            \"-r\", protein_PKA.as_posix(),\n",
    "            \"-l\", fixed_ligands.as_posix(),\n",
    "            \"--autobox_ligand\", fixed_crystal.as_posix(),\n",
    "            \"-o\", smina_output,\n",
    "            \"--exhaustiveness\", \"16\"\n",
    "        ]\n",
    "        \n",
    "        print(\"Running docking\")\n",
    "        with open(smina_log, \"w\") as log_file:\n",
    "            subprocess.run(smina_lst, check=True, stdout=log_file, stderr=log_file)\n",
    "            os.remove(smina_log)\n",
    "        \n",
    "        return smina_output"
   ]
  },
  {
   "cell_type": "code",
   "execution_count": null,
   "id": "1dcafa384d882bd4",
   "metadata": {
    "collapsed": false
   },
   "outputs": [],
   "source": [
    "pymol_docking = Pymol_Docking(\"LAC3.pdb\", \"F5_prep.sdf\")\n",
    "pymol_docking.prepare_protein()"
   ]
  },
  {
   "cell_type": "code",
   "execution_count": null,
   "id": "96c091fea24d9c0f",
   "metadata": {
    "collapsed": false
   },
   "outputs": [],
   "source": [
    "@cmd.extend\n",
    "def on_site_docking(protein_selection, ligand_selection, outname: str):\n",
    "    protein_name = cmd.get_object_list(protein_selection)[0]\n",
    "    ligand_name = cmd.get_object_list(ligand_selection)[0]\n",
    "    \n",
    "    to_save_protein = Path(gettempdir()) / f\"{protein_name}.pdb\"\n",
    "    to_save_ligand = Path(gettempdir()) / f\"{ligand_name}.sdf\"\n",
    "    \n",
    "    cmd.save(str(to_save_protein), protein_selection)\n",
    "    cmd.save(str(to_save_ligand), ligand_selection)\n",
    "    \n",
    "    pymol_docking = Pymol_Docking(str(to_save_protein), str(to_save_ligand))\n",
    "    docked_sdf: Path = pymol_docking.run_smina_docking(\"smina\", outname)\n",
    "    \n",
    "    cmd.load(str(docked_sdf), f\"{ligand_name}_Docked\")"
   ]
  },
  {
   "cell_type": "code",
   "execution_count": null,
   "id": "ce5ec2db9c8fe598",
   "metadata": {
    "collapsed": false
   },
   "outputs": [],
   "source": []
  }
 ],
 "metadata": {
  "kernelspec": {
   "display_name": "cheminf_3_11",
   "language": "python",
   "name": "python3"
  },
  "language_info": {
   "codemirror_mode": {
    "name": "ipython",
    "version": 3
   },
   "file_extension": ".py",
   "mimetype": "text/x-python",
   "name": "python",
   "nbconvert_exporter": "python",
   "pygments_lexer": "ipython3",
   "version": "3.11.8"
  }
 },
 "nbformat": 4,
 "nbformat_minor": 5
}
