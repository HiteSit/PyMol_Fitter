{
 "cells": [
  {
   "cell_type": "code",
   "execution_count": null,
   "id": "initial_id",
   "metadata": {
    "collapsed": true
   },
   "outputs": [],
   "source": [
    "import os\n",
    "import shutil\n",
    "import glob\n",
    "import logging\n",
    "import pathlib\n",
    "from pathlib import Path\n",
    "from tempfile import gettempdir, NamedTemporaryFile\n",
    "from typing import List, Dict, Union\n",
    "\n",
    "import subprocess\n",
    "\n",
    "import pandas as pd\n",
    "import numpy as np\n",
    "\n",
    "import datamol as dm\n",
    "from rdkit import Chem\n",
    "from rdkit.Chem import AllChem\n",
    "from rdkit.Chem import PandasTools\n",
    "\n",
    "from openmm.app import PDBFile\n",
    "from pdbfixer import PDBFixer\n",
    "from pymol import cmd\n",
    "\n",
    "from openeye import oechem\n",
    "from openeye import oequacpac"
   ]
  },
  {
   "cell_type": "code",
   "outputs": [],
   "source": [
    "logging.basicConfig(level=logging.DEBUG,\n",
    "                    format='%(asctime)s - %(name)s - %(levelname)s - %(message)s',\n",
    "                    handlers=[\n",
    "                        logging.StreamHandler()\n",
    "                    ])\n",
    "logger = logging.getLogger(__name__)"
   ],
   "metadata": {
    "collapsed": false
   },
   "id": "89655efa17b17c2d",
   "execution_count": null
  },
  {
   "cell_type": "code",
   "outputs": [],
   "source": [
    "def openeye_fixer(oemol, explicit_H=True):\n",
    "\n",
    "    to_edit = oechem.OEGraphMol(oemol)\n",
    "    \n",
    "    oechem.OEDetermineConnectivity(to_edit)\n",
    "    oechem.OEFindRingAtomsAndBonds(to_edit)\n",
    "    oechem.OEPerceiveBondOrders(to_edit)\n",
    "    oechem.OEAssignImplicitHydrogens(to_edit)\n",
    "    oechem.OEAssignFormalCharges(to_edit)\n",
    "    \n",
    "    oechem.OEClearAromaticFlags(to_edit)\n",
    "    \n",
    "    oechem.OEFindRingAtomsAndBonds(to_edit)\n",
    "    oechem.OEAssignAromaticFlags(to_edit)\n",
    "    for bond in to_edit.GetBonds():\n",
    "        if bond.IsAromatic():\n",
    "            bond.SetIntType(5)\n",
    "        elif bond.GetOrder() != 0:\n",
    "            bond.SetIntType(bond.GetOrder())\n",
    "        else:\n",
    "            bond.SetIntType(1)\n",
    "    \n",
    "    oechem.OEKekulize(to_edit)\n",
    "    \n",
    "    if explicit_H:\n",
    "        oechem.OEAddExplicitHydrogens(to_edit)\n",
    "        oequacpac.OEGetReasonableProtomer(to_edit)\n",
    "    \n",
    "    return oechem.OEGraphMol(to_edit)"
   ],
   "metadata": {
    "collapsed": false
   },
   "id": "a2a48c1004103d87",
   "execution_count": null
  },
  {
   "cell_type": "code",
   "outputs": [],
   "source": [
    "class Pymol_Docking:\n",
    "    def __init__(self, protein_pdb: str, ligands_sdf: str):\n",
    "        self.workdir: Path = Path(os.getcwd())\n",
    "        self.protein_pdb: Path = Path(protein_pdb)\n",
    "        self.crystal_sdf: Path = Path(\"Crystal.sdf\")\n",
    "        \n",
    "        self.ligands_sdf: Path = Path(ligands_sdf)\n",
    "    \n",
    "    def prepare_protein(self) -> Path:\n",
    "        protein_basename: str = self.protein_pdb.stem\n",
    "        protein_PREP: Path = self.workdir / f\"{protein_basename}_PREP.pdb\"\n",
    "\n",
    "        fixer = PDBFixer(filename=str(self.protein_pdb))\n",
    "        fixer.removeHeterogens(keepWater=False)\n",
    "        fixer.findMissingResidues()\n",
    "        fixer.findMissingAtoms()\n",
    "        fixer.findNonstandardResidues()\n",
    "\n",
    "        fixer.addMissingAtoms()\n",
    "        fixer.addMissingHydrogens(7.4)\n",
    "\n",
    "        PDBFile.writeFile(fixer.topology, fixer.positions, open(protein_PREP.as_posix(), 'w'))\n",
    "        return protein_PREP\n",
    "    \n",
    "    @staticmethod\n",
    "    def fix_3d_mol(sdf_file: Path, TMP_basename: str) -> Path:\n",
    "        TMP_fixed_sdf = Path(gettempdir()) / f\"{TMP_basename}_fixed.sdf\"\n",
    "        \n",
    "        ifs = oechem.oemolistream()\n",
    "        ofs = oechem.oemolostream(TMP_fixed_sdf.as_posix())\n",
    "        \n",
    "        ifs.open(sdf_file.as_posix())\n",
    "        for oemol in ifs.GetOEGraphMols():\n",
    "            fixed_oemol = openeye_fixer(oemol)\n",
    "            oechem.OEWriteMolecule(ofs, fixed_oemol)\n",
    "        \n",
    "        return TMP_fixed_sdf\n",
    "    \n",
    "    def prepare_ligands(self):\n",
    "        fixed_crystal: Path = self.fix_3d_mol(self.crystal_sdf, \"crystal\")\n",
    "        fixed_ligands: Path = self.fix_3d_mol(self.ligands_sdf, \"ligand\")\n",
    "        \n",
    "        return fixed_ligands, fixed_crystal\n",
    "\n",
    "    def run_docking(self, mode: str, docked_basename: str) -> Path:\n",
    "        # Fix the protein\n",
    "        print(\"Running protein preparation\")\n",
    "        protein_PKA: Path = self.prepare_protein()\n",
    "        \n",
    "        # Fix the ligands\n",
    "        fixed_ligands, fixed_crystal = self.prepare_ligands()\n",
    "        \n",
    "        # Define the output\n",
    "        smina_output: Path = self.workdir / f\"{docked_basename}.sdf\"\n",
    "        smina_log = smina_output.with_suffix(\".log\")\n",
    "        \n",
    "        smina_lst = [\n",
    "            \"smina\",\n",
    "            \"-r\", protein_PKA.as_posix(),\n",
    "            \"-l\", fixed_ligands.as_posix(),\n",
    "            \"--autobox_ligand\", fixed_crystal.as_posix(),\n",
    "            \"-o\", smina_output,\n",
    "            \"--exhaustiveness\", \"16\"\n",
    "        ]\n",
    "        \n",
    "        print(\"Running docking\")\n",
    "        with open(smina_log, \"w\") as log_file:\n",
    "            subprocess.run(smina_lst, check=True, stdout=log_file, stderr=log_file)\n",
    "            os.remove(smina_log)\n",
    "        \n",
    "        return smina_output"
   ],
   "metadata": {
    "collapsed": false
   },
   "id": "adb91b7eee3fb015",
   "execution_count": null
  },
  {
   "cell_type": "code",
   "outputs": [],
   "source": [
    "pymol_docking = Pymol_Docking(\"LAC3.pdb\", \"F5_prep.sdf\")\n",
    "pymol_docking.prepare_protein()"
   ],
   "metadata": {
    "collapsed": false
   },
   "id": "1dcafa384d882bd4",
   "execution_count": null
  },
  {
   "cell_type": "code",
   "outputs": [],
   "source": [
    "@cmd.extend\n",
    "def on_site_docking(protein_selection, ligand_selection, outname: str):\n",
    "    protein_name = cmd.get_object_list(protein_selection)[0]\n",
    "    ligand_name = cmd.get_object_list(ligand_selection)[0]\n",
    "    \n",
    "    to_save_protein = Path(gettempdir()) / f\"{protein_name}.pdb\"\n",
    "    to_save_ligand = Path(gettempdir()) / f\"{ligand_name}.sdf\"\n",
    "    \n",
    "    cmd.save(str(to_save_protein), protein_selection)\n",
    "    cmd.save(str(to_save_ligand), ligand_selection)\n",
    "    \n",
    "    pymol_docking = Pymol_Docking(str(to_save_protein), str(to_save_ligand))\n",
    "    docked_sdf: Path = pymol_docking.run_docking(\"smina\", outname)\n",
    "    \n",
    "    cmd.load(str(docked_sdf), f\"{ligand_name}_Docked\")"
   ],
   "metadata": {
    "collapsed": false
   },
   "id": "96c091fea24d9c0f",
   "execution_count": null
  },
  {
   "cell_type": "code",
   "outputs": [],
   "source": [],
   "metadata": {
    "collapsed": false
   },
   "id": "ce5ec2db9c8fe598"
  }
 ],
 "metadata": {
  "kernelspec": {
   "display_name": "Python 3",
   "language": "python",
   "name": "python3"
  },
  "language_info": {
   "codemirror_mode": {
    "name": "ipython",
    "version": 2
   },
   "file_extension": ".py",
   "mimetype": "text/x-python",
   "name": "python",
   "nbconvert_exporter": "python",
   "pygments_lexer": "ipython2",
   "version": "2.7.6"
  }
 },
 "nbformat": 4,
 "nbformat_minor": 5
}
