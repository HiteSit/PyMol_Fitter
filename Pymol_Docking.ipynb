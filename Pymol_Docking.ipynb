{
 "cells": [
  {
   "cell_type": "code",
   "execution_count": 1,
   "id": "initial_id",
   "metadata": {
    "collapsed": true,
    "ExecuteTime": {
     "end_time": "2024-09-04T16:02:09.457494Z",
     "start_time": "2024-09-04T16:02:08.790175Z"
    }
   },
   "outputs": [],
   "source": [
    "import os\n",
    "import shutil\n",
    "import glob\n",
    "import logging\n",
    "import pathlib\n",
    "from pathlib import Path\n",
    "from tempfile import gettempdir, NamedTemporaryFile\n",
    "from typing import List, Dict, Union\n",
    "\n",
    "import subprocess\n",
    "\n",
    "import pandas as pd\n",
    "import numpy as np\n",
    "\n",
    "import datamol as dm\n",
    "from rdkit import Chem\n",
    "from rdkit.Chem import AllChem\n",
    "from rdkit.Chem import PandasTools\n",
    "\n",
    "from openmm.app import PDBFile\n",
    "from pdbfixer import PDBFixer\n",
    "from pymol import cmd\n",
    "\n",
    "from openeye import oechem\n",
    "from openeye import oequacpac"
   ]
  },
  {
   "cell_type": "code",
   "outputs": [],
   "source": [
    "logging.basicConfig(level=logging.DEBUG,\n",
    "                    format='%(asctime)s - %(name)s - %(levelname)s - %(message)s',\n",
    "                    handlers=[\n",
    "                        logging.StreamHandler()\n",
    "                    ])\n",
    "logger = logging.getLogger(__name__)"
   ],
   "metadata": {
    "collapsed": false,
    "ExecuteTime": {
     "end_time": "2024-09-04T16:02:09.461043Z",
     "start_time": "2024-09-04T16:02:09.458676Z"
    }
   },
   "id": "89655efa17b17c2d",
   "execution_count": 2
  },
  {
   "cell_type": "code",
   "outputs": [],
   "source": [
    "from Pymol_Docking import Plants_Docking"
   ],
   "metadata": {
    "collapsed": false,
    "ExecuteTime": {
     "end_time": "2024-09-04T16:02:09.537254Z",
     "start_time": "2024-09-04T16:02:09.462205Z"
    }
   },
   "id": "b18630986536010f",
   "execution_count": 3
  },
  {
   "cell_type": "code",
   "outputs": [],
   "source": [
    "tests_dir = Path(\"./tests\")\n",
    "data_dir = tests_dir / \"sample_data\""
   ],
   "metadata": {
    "collapsed": false,
    "ExecuteTime": {
     "end_time": "2024-09-04T16:02:09.540928Z",
     "start_time": "2024-09-04T16:02:09.538734Z"
    }
   },
   "id": "94e767a55676be77",
   "execution_count": 4
  },
  {
   "cell_type": "code",
   "outputs": [],
   "source": [
    "protein_pdb = data_dir / \"LAC3.pdb\"\n",
    "protein_pdb = protein_pdb.absolute()\n",
    "\n",
    "ligands_sdf = data_dir / \"Ligands.sdf\"\n",
    "ligands_sdf = ligands_sdf.absolute()"
   ],
   "metadata": {
    "collapsed": false,
    "ExecuteTime": {
     "end_time": "2024-09-04T16:02:09.549685Z",
     "start_time": "2024-09-04T16:02:09.542222Z"
    }
   },
   "id": "e023c2817776785a",
   "execution_count": 5
  },
  {
   "cell_type": "code",
   "outputs": [],
   "source": [
    "os.chdir(tests_dir)"
   ],
   "metadata": {
    "collapsed": false,
    "ExecuteTime": {
     "end_time": "2024-09-04T16:02:09.712229Z",
     "start_time": "2024-09-04T16:02:09.709216Z"
    }
   },
   "id": "f8272cf83a6405e2",
   "execution_count": 6
  },
  {
   "cell_type": "code",
   "outputs": [],
   "source": [
    "plants = Plants_Docking(protein_pdb, ligands_sdf)"
   ],
   "metadata": {
    "collapsed": false,
    "ExecuteTime": {
     "end_time": "2024-09-04T16:02:09.947199Z",
     "start_time": "2024-09-04T16:02:09.942576Z"
    }
   },
   "id": "3411dd3fc75e1b45",
   "execution_count": 7
  },
  {
   "cell_type": "code",
   "outputs": [
    {
     "data": {
      "text/plain": "PosixPath('/mnt/d/Pymol_Docking/tests/LAC3_PREP.mol2')"
     },
     "execution_count": 8,
     "metadata": {},
     "output_type": "execute_result"
    }
   ],
   "source": [
    "plants.prepare_protein()"
   ],
   "metadata": {
    "collapsed": false,
    "ExecuteTime": {
     "end_time": "2024-09-04T16:02:12.528230Z",
     "start_time": "2024-09-04T16:02:10.106007Z"
    }
   },
   "id": "e33ce5692183db36",
   "execution_count": 8
  },
  {
   "cell_type": "code",
   "outputs": [
    {
     "name": "stderr",
     "output_type": "stream",
     "text": [
      "2024-09-04 18:02:12,529 - Pymol_Docking - INFO - Preparing ligands from SMILES\n"
     ]
    },
    {
     "ename": "TypeError",
     "evalue": "in method 'OESmilesToMol', argument 2 of type 'std::string const &'",
     "output_type": "error",
     "traceback": [
      "\u001B[0;31m---------------------------------------------------------------------------\u001B[0m",
      "\u001B[0;31mTypeError\u001B[0m                                 Traceback (most recent call last)",
      "\u001B[0;32m/tmp/ipykernel_74764/1530989197.py\u001B[0m in \u001B[0;36m?\u001B[0;34m()\u001B[0m\n\u001B[0;32m----> 1\u001B[0;31m \u001B[0mplants\u001B[0m\u001B[0;34m.\u001B[0m\u001B[0mprepare_ligands\u001B[0m\u001B[0;34m(\u001B[0m\u001B[0;34m)\u001B[0m\u001B[0;34m\u001B[0m\u001B[0;34m\u001B[0m\u001B[0m\n\u001B[0m",
      "\u001B[0;32m/mnt/d/Pymol_Docking/Pymol_Docking.py\u001B[0m in \u001B[0;36m?\u001B[0;34m(self)\u001B[0m\n\u001B[1;32m    145\u001B[0m \u001B[0;34m\u001B[0m\u001B[0m\n\u001B[1;32m    146\u001B[0m         \u001B[0;32melif\u001B[0m \u001B[0mself\u001B[0m\u001B[0;34m.\u001B[0m\u001B[0minput_mode\u001B[0m \u001B[0;34m==\u001B[0m \u001B[0;34m\"SMILES\"\u001B[0m\u001B[0;34m:\u001B[0m\u001B[0;34m\u001B[0m\u001B[0;34m\u001B[0m\u001B[0m\n\u001B[1;32m    147\u001B[0m             \u001B[0mlogger\u001B[0m\u001B[0;34m.\u001B[0m\u001B[0minfo\u001B[0m\u001B[0;34m(\u001B[0m\u001B[0;34m\"Preparing ligands from SMILES\"\u001B[0m\u001B[0;34m)\u001B[0m\u001B[0;34m\u001B[0m\u001B[0;34m\u001B[0m\u001B[0m\n\u001B[1;32m    148\u001B[0m             \u001B[0mfixed_crystal\u001B[0m\u001B[0;34m:\u001B[0m \u001B[0mPath\u001B[0m \u001B[0;34m=\u001B[0m \u001B[0mself\u001B[0m\u001B[0;34m.\u001B[0m\u001B[0mfix_3d_mol\u001B[0m\u001B[0;34m(\u001B[0m\u001B[0mself\u001B[0m\u001B[0;34m.\u001B[0m\u001B[0mcrystal_sdf\u001B[0m\u001B[0;34m,\u001B[0m \u001B[0;34m\"crystal\"\u001B[0m\u001B[0;34m)\u001B[0m\u001B[0;34m\u001B[0m\u001B[0;34m\u001B[0m\u001B[0m\n\u001B[0;32m--> 149\u001B[0;31m             \u001B[0msmiles_3d\u001B[0m\u001B[0;34m:\u001B[0m \u001B[0mPath\u001B[0m \u001B[0;34m=\u001B[0m \u001B[0mopeneye_gen3d\u001B[0m\u001B[0;34m(\u001B[0m\u001B[0mself\u001B[0m\u001B[0;34m.\u001B[0m\u001B[0mligands_smiles\u001B[0m\u001B[0;34m)\u001B[0m\u001B[0;34m\u001B[0m\u001B[0;34m\u001B[0m\u001B[0m\n\u001B[0m\u001B[1;32m    150\u001B[0m             \u001B[0mfixed_ligands\u001B[0m\u001B[0;34m:\u001B[0m \u001B[0mPath\u001B[0m \u001B[0;34m=\u001B[0m \u001B[0mself\u001B[0m\u001B[0;34m.\u001B[0m\u001B[0mfix_3d_mol\u001B[0m\u001B[0;34m(\u001B[0m\u001B[0msmiles_3d\u001B[0m\u001B[0;34m,\u001B[0m \u001B[0;34m\"ligand\"\u001B[0m\u001B[0;34m)\u001B[0m\u001B[0;34m\u001B[0m\u001B[0;34m\u001B[0m\u001B[0m\n\u001B[1;32m    151\u001B[0m \u001B[0;34m\u001B[0m\u001B[0m\n\u001B[1;32m    152\u001B[0m             \u001B[0;32mreturn\u001B[0m \u001B[0mfixed_ligands\u001B[0m\u001B[0;34m.\u001B[0m\u001B[0mresolve\u001B[0m\u001B[0;34m(\u001B[0m\u001B[0;34m)\u001B[0m\u001B[0;34m,\u001B[0m \u001B[0mfixed_crystal\u001B[0m\u001B[0;34m.\u001B[0m\u001B[0mresolve\u001B[0m\u001B[0;34m(\u001B[0m\u001B[0;34m)\u001B[0m\u001B[0;34m\u001B[0m\u001B[0;34m\u001B[0m\u001B[0m\n",
      "\u001B[0;32m/mnt/d/Pymol_Docking/Pymol_Docking.py\u001B[0m in \u001B[0;36m?\u001B[0;34m(smile)\u001B[0m\n\u001B[1;32m     58\u001B[0m \u001B[0;32mdef\u001B[0m \u001B[0mopeneye_gen3d\u001B[0m\u001B[0;34m(\u001B[0m\u001B[0msmile\u001B[0m\u001B[0;34m)\u001B[0m \u001B[0;34m->\u001B[0m \u001B[0mPath\u001B[0m\u001B[0;34m:\u001B[0m\u001B[0;34m\u001B[0m\u001B[0;34m\u001B[0m\u001B[0m\n\u001B[1;32m     59\u001B[0m     \u001B[0moemol\u001B[0m \u001B[0;34m=\u001B[0m \u001B[0moechem\u001B[0m\u001B[0;34m.\u001B[0m\u001B[0mOEMol\u001B[0m\u001B[0;34m(\u001B[0m\u001B[0;34m)\u001B[0m\u001B[0;34m\u001B[0m\u001B[0;34m\u001B[0m\u001B[0m\n\u001B[0;32m---> 60\u001B[0;31m     \u001B[0moechem\u001B[0m\u001B[0;34m.\u001B[0m\u001B[0mOESmilesToMol\u001B[0m\u001B[0;34m(\u001B[0m\u001B[0moemol\u001B[0m\u001B[0;34m,\u001B[0m \u001B[0msmile\u001B[0m\u001B[0;34m)\u001B[0m\u001B[0;34m\u001B[0m\u001B[0;34m\u001B[0m\u001B[0m\n\u001B[0m\u001B[1;32m     61\u001B[0m \u001B[0;34m\u001B[0m\u001B[0m\n\u001B[1;32m     62\u001B[0m     \u001B[0;31m# Generate 3D coordinates\u001B[0m\u001B[0;34m\u001B[0m\u001B[0;34m\u001B[0m\u001B[0m\n\u001B[1;32m     63\u001B[0m     \u001B[0mbuilder\u001B[0m \u001B[0;34m=\u001B[0m \u001B[0moeomega\u001B[0m\u001B[0;34m.\u001B[0m\u001B[0mOEConformerBuilder\u001B[0m\u001B[0;34m(\u001B[0m\u001B[0;34m)\u001B[0m\u001B[0;34m\u001B[0m\u001B[0;34m\u001B[0m\u001B[0m\n",
      "\u001B[0;32m~/mambaforge/envs/cheminf_3_11/lib/python3.11/site-packages/openeye/oechem.py\u001B[0m in \u001B[0;36m?\u001B[0;34m(mol, str)\u001B[0m\n\u001B[1;32m  25463\u001B[0m \u001B[0;32mdef\u001B[0m \u001B[0mOESmilesToMol\u001B[0m\u001B[0;34m(\u001B[0m\u001B[0mmol\u001B[0m\u001B[0;34m,\u001B[0m \u001B[0mstr\u001B[0m\u001B[0;34m)\u001B[0m\u001B[0;34m:\u001B[0m\u001B[0;34m\u001B[0m\u001B[0;34m\u001B[0m\u001B[0m\n\u001B[1;32m  25464\u001B[0m     \u001B[0;34mr\"\"\"OESmilesToMol(OEMolBase mol, std::string const & str) -> bool\"\"\"\u001B[0m\u001B[0;34m\u001B[0m\u001B[0;34m\u001B[0m\u001B[0m\n\u001B[0;32m> 25465\u001B[0;31m     \u001B[0;32mreturn\u001B[0m \u001B[0m_oechem\u001B[0m\u001B[0;34m.\u001B[0m\u001B[0mOESmilesToMol\u001B[0m\u001B[0;34m(\u001B[0m\u001B[0mmol\u001B[0m\u001B[0;34m,\u001B[0m \u001B[0mstr\u001B[0m\u001B[0;34m)\u001B[0m\u001B[0;34m\u001B[0m\u001B[0;34m\u001B[0m\u001B[0m\n\u001B[0m",
      "\u001B[0;31mTypeError\u001B[0m: in method 'OESmilesToMol', argument 2 of type 'std::string const &'"
     ]
    }
   ],
   "source": [
    "plants.prepare_ligands()"
   ],
   "metadata": {
    "collapsed": false,
    "ExecuteTime": {
     "end_time": "2024-09-04T16:02:12.570702Z",
     "start_time": "2024-09-04T16:02:12.529255Z"
    }
   },
   "id": "18fd136ea7d15306",
   "execution_count": 9
  },
  {
   "cell_type": "code",
   "outputs": [],
   "source": [],
   "metadata": {
    "collapsed": false
   },
   "id": "af84815193e84531"
  },
  {
   "cell_type": "code",
   "outputs": [],
   "source": [],
   "metadata": {
    "collapsed": false
   },
   "id": "9b4b2eabf8fa1ffa"
  },
  {
   "cell_type": "code",
   "outputs": [],
   "source": [],
   "metadata": {
    "collapsed": false
   },
   "id": "3e7c179b9e323908"
  },
  {
   "cell_type": "code",
   "outputs": [],
   "source": [],
   "metadata": {
    "collapsed": false
   },
   "id": "dea56e86db2eea7d"
  },
  {
   "cell_type": "code",
   "outputs": [],
   "source": [
    "def openeye_fixer(oemol, explicit_H=True):\n",
    "\n",
    "    to_edit = oechem.OEGraphMol(oemol)\n",
    "    \n",
    "    oechem.OEDetermineConnectivity(to_edit)\n",
    "    oechem.OEFindRingAtomsAndBonds(to_edit)\n",
    "    oechem.OEPerceiveBondOrders(to_edit)\n",
    "    oechem.OEAssignImplicitHydrogens(to_edit)\n",
    "    oechem.OEAssignFormalCharges(to_edit)\n",
    "    \n",
    "    oechem.OEClearAromaticFlags(to_edit)\n",
    "    \n",
    "    oechem.OEFindRingAtomsAndBonds(to_edit)\n",
    "    oechem.OEAssignAromaticFlags(to_edit)\n",
    "    for bond in to_edit.GetBonds():\n",
    "        if bond.IsAromatic():\n",
    "            bond.SetIntType(5)\n",
    "        elif bond.GetOrder() != 0:\n",
    "            bond.SetIntType(bond.GetOrder())\n",
    "        else:\n",
    "            bond.SetIntType(1)\n",
    "    \n",
    "    oechem.OEKekulize(to_edit)\n",
    "    \n",
    "    if explicit_H:\n",
    "        oechem.OEAddExplicitHydrogens(to_edit)\n",
    "        oequacpac.OEGetReasonableProtomer(to_edit)\n",
    "    \n",
    "    return oechem.OEGraphMol(to_edit)"
   ],
   "metadata": {
    "collapsed": false
   },
   "id": "a2a48c1004103d87",
   "execution_count": null
  },
  {
   "cell_type": "code",
   "outputs": [],
   "source": [
    "class Pymol_Docking:\n",
    "    def __init__(self, protein_pdb: str, ligands_sdf: str):\n",
    "        self.workdir: Path = Path(os.getcwd())\n",
    "        self.protein_pdb: Path = Path(protein_pdb)\n",
    "        self.crystal_sdf: Path = Path(\"Crystal.sdf\")\n",
    "        \n",
    "        self.ligands_sdf: Path = Path(ligands_sdf)\n",
    "    \n",
    "    def prepare_protein(self) -> Path:\n",
    "        protein_basename: str = self.protein_pdb.stem\n",
    "        protein_PREP: Path = self.workdir / f\"{protein_basename}_PREP.pdb\"\n",
    "\n",
    "        fixer = PDBFixer(filename=str(self.protein_pdb))\n",
    "        fixer.removeHeterogens(keepWater=False)\n",
    "        fixer.findMissingResidues()\n",
    "        fixer.findMissingAtoms()\n",
    "        fixer.findNonstandardResidues()\n",
    "\n",
    "        fixer.addMissingAtoms()\n",
    "        fixer.addMissingHydrogens(7.4)\n",
    "\n",
    "        PDBFile.writeFile(fixer.topology, fixer.positions, open(protein_PREP.as_posix(), 'w'))\n",
    "        return protein_PREP\n",
    "    \n",
    "    @staticmethod\n",
    "    def fix_3d_mol(sdf_file: Path, TMP_basename: str) -> Path:\n",
    "        TMP_fixed_sdf = Path(gettempdir()) / f\"{TMP_basename}_fixed.sdf\"\n",
    "        \n",
    "        ifs = oechem.oemolistream()\n",
    "        ofs = oechem.oemolostream(TMP_fixed_sdf.as_posix())\n",
    "        \n",
    "        ifs.open(sdf_file.as_posix())\n",
    "        for oemol in ifs.GetOEGraphMols():\n",
    "            fixed_oemol = openeye_fixer(oemol)\n",
    "            oechem.OEWriteMolecule(ofs, fixed_oemol)\n",
    "        \n",
    "        return TMP_fixed_sdf\n",
    "    \n",
    "    def prepare_ligands(self):\n",
    "        fixed_crystal: Path = self.fix_3d_mol(self.crystal_sdf, \"crystal\")\n",
    "        fixed_ligands: Path = self.fix_3d_mol(self.ligands_sdf, \"ligand\")\n",
    "        \n",
    "        return fixed_ligands, fixed_crystal\n",
    "\n",
    "    def run_smina_docking(self, mode: str, docked_basename: str) -> Path:\n",
    "        # Fix the protein\n",
    "        print(\"Running protein preparation\")\n",
    "        protein_PKA: Path = self.prepare_protein()\n",
    "        \n",
    "        # Fix the ligands\n",
    "        fixed_ligands, fixed_crystal = self.prepare_ligands()\n",
    "        \n",
    "        # Define the output\n",
    "        smina_output: Path = self.workdir / f\"{docked_basename}.sdf\"\n",
    "        smina_log = smina_output.with_suffix(\".log\")\n",
    "        \n",
    "        smina_lst = [\n",
    "            \"smina\",\n",
    "            \"-r\", protein_PKA.as_posix(),\n",
    "            \"-l\", fixed_ligands.as_posix(),\n",
    "            \"--autobox_ligand\", fixed_crystal.as_posix(),\n",
    "            \"-o\", smina_output,\n",
    "            \"--exhaustiveness\", \"16\"\n",
    "        ]\n",
    "        \n",
    "        print(\"Running docking\")\n",
    "        with open(smina_log, \"w\") as log_file:\n",
    "            subprocess.run(smina_lst, check=True, stdout=log_file, stderr=log_file)\n",
    "            os.remove(smina_log)\n",
    "        \n",
    "        return smina_output"
   ],
   "metadata": {
    "collapsed": false
   },
   "id": "adb91b7eee3fb015",
   "execution_count": null
  },
  {
   "cell_type": "code",
   "outputs": [],
   "source": [
    "pymol_docking = Pymol_Docking(\"LAC3.pdb\", \"F5_prep.sdf\")\n",
    "pymol_docking.prepare_protein()"
   ],
   "metadata": {
    "collapsed": false
   },
   "id": "1dcafa384d882bd4",
   "execution_count": null
  },
  {
   "cell_type": "code",
   "outputs": [],
   "source": [
    "@cmd.extend\n",
    "def on_site_docking(protein_selection, ligand_selection, outname: str):\n",
    "    protein_name = cmd.get_object_list(protein_selection)[0]\n",
    "    ligand_name = cmd.get_object_list(ligand_selection)[0]\n",
    "    \n",
    "    to_save_protein = Path(gettempdir()) / f\"{protein_name}.pdb\"\n",
    "    to_save_ligand = Path(gettempdir()) / f\"{ligand_name}.sdf\"\n",
    "    \n",
    "    cmd.save(str(to_save_protein), protein_selection)\n",
    "    cmd.save(str(to_save_ligand), ligand_selection)\n",
    "    \n",
    "    pymol_docking = Pymol_Docking(str(to_save_protein), str(to_save_ligand))\n",
    "    docked_sdf: Path = pymol_docking.run_smina_docking(\"smina\", outname)\n",
    "    \n",
    "    cmd.load(str(docked_sdf), f\"{ligand_name}_Docked\")"
   ],
   "metadata": {
    "collapsed": false
   },
   "id": "96c091fea24d9c0f",
   "execution_count": null
  },
  {
   "cell_type": "code",
   "outputs": [],
   "source": [],
   "metadata": {
    "collapsed": false
   },
   "id": "ce5ec2db9c8fe598"
  }
 ],
 "metadata": {
  "kernelspec": {
   "display_name": "Python 3",
   "language": "python",
   "name": "python3"
  },
  "language_info": {
   "codemirror_mode": {
    "name": "ipython",
    "version": 2
   },
   "file_extension": ".py",
   "mimetype": "text/x-python",
   "name": "python",
   "nbconvert_exporter": "python",
   "pygments_lexer": "ipython2",
   "version": "2.7.6"
  }
 },
 "nbformat": 4,
 "nbformat_minor": 5
}
