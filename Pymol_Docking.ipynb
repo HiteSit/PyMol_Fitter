{
 "cells": [
  {
   "cell_type": "code",
   "execution_count": 5,
   "id": "initial_id",
   "metadata": {
    "ExecuteTime": {
     "end_time": "2024-09-04T16:02:09.457494Z",
     "start_time": "2024-09-04T16:02:08.790175Z"
    },
    "collapsed": true
   },
   "outputs": [],
   "source": [
    "import os\n",
    "import shutil\n",
    "import glob\n",
    "import logging\n",
    "import pathlib\n",
    "from pathlib import Path\n",
    "from tempfile import gettempdir, NamedTemporaryFile\n",
    "from typing import List, Dict, Union\n",
    "\n",
    "import subprocess\n",
    "\n",
    "import pandas as pd\n",
    "import numpy as np\n",
    "\n",
    "import datamol as dm\n",
    "from rdkit import Chem\n",
    "from rdkit.Chem import AllChem\n",
    "from rdkit.Chem import PandasTools\n",
    "\n",
    "from openmm.app import PDBFile\n",
    "from pdbfixer import PDBFixer\n",
    "from pymol import cmd\n",
    "\n",
    "from openeye import oechem\n",
    "from openeye import oequacpac"
   ]
  },
  {
   "cell_type": "code",
   "execution_count": 6,
   "id": "89655efa17b17c2d",
   "metadata": {
    "ExecuteTime": {
     "end_time": "2024-09-04T16:02:09.461043Z",
     "start_time": "2024-09-04T16:02:09.458676Z"
    },
    "collapsed": false
   },
   "outputs": [],
   "source": [
    "logging.basicConfig(level=logging.DEBUG,\n",
    "                    format='%(asctime)s - %(name)s - %(levelname)s - %(message)s',\n",
    "                    handlers=[\n",
    "                        logging.StreamHandler()\n",
    "                    ])\n",
    "logger = logging.getLogger(__name__)"
   ]
  },
  {
   "cell_type": "code",
   "execution_count": 7,
   "id": "b18630986536010f",
   "metadata": {
    "ExecuteTime": {
     "end_time": "2024-09-04T16:02:09.537254Z",
     "start_time": "2024-09-04T16:02:09.462205Z"
    },
    "collapsed": false
   },
   "outputs": [],
   "source": [
    "from posebusters import PoseBusters\n",
    "\n",
    "from Pymol_Docking import Plants_Docking\n",
    "from Pymol_Docking import Pymol_Docking"
   ]
  },
  {
   "cell_type": "code",
   "execution_count": 4,
   "id": "65410d34",
   "metadata": {},
   "outputs": [
    {
     "name": "stderr",
     "output_type": "stream",
     "text": [
      "2025-02-11 19:56:22,905 - urllib3.connectionpool - DEBUG - Starting new HTTPS connection (1): proteins.plus:443\n"
     ]
    },
    {
     "name": "stdout",
     "output_type": "stream",
     "text": [
      "Running protein preparation\n",
      "Preparing protein with ProtoSS ...\n"
     ]
    },
    {
     "name": "stderr",
     "output_type": "stream",
     "text": [
      "2025-02-11 19:56:23,126 - urllib3.connectionpool - DEBUG - https://proteins.plus:443 \"POST /api/v2/protoss/ HTTP/1.1\" 202 77\n",
      "2025-02-11 19:56:23,131 - urllib3.connectionpool - DEBUG - Starting new HTTPS connection (1): proteins.plus:443\n",
      "2025-02-11 19:56:23,281 - urllib3.connectionpool - DEBUG - https://proteins.plus:443 \"GET /api/v2/protoss/jobs/4f2cd205-31a2-4baf-af14-acba0bbfef76/ HTTP/1.1\" 200 270\n",
      "2025-02-11 19:56:23,284 - urllib3.connectionpool - DEBUG - Starting new HTTPS connection (1): proteins.plus:443\n",
      "2025-02-11 19:56:23,408 - urllib3.connectionpool - DEBUG - https://proteins.plus:443 \"GET /api/v2/molecule_handler/proteins/0314ca22-5bc1-48ef-89e0-bfde6c777b47/ HTTP/1.1\" 200 282604\n"
     ]
    },
    {
     "name": "stdout",
     "output_type": "stream",
     "text": [
      "Job 4f2cd205-31a2-4baf-af14-acba0bbfef76 completed with success\n"
     ]
    },
    {
     "name": "stderr",
     "output_type": "stream",
     "text": [
      "2025-02-11 19:56:23,562 - fsspec.local - DEBUG - open file: /tmp/TMP_SMILES.sdf\n"
     ]
    },
    {
     "name": "stdout",
     "output_type": "stream",
     "text": [
      "Running docking\n"
     ]
    }
   ],
   "source": [
    "pymol = Pymol_Docking(\"./LAC3.pdb\", \"CC1=C(NC2CCCC2)N2C=CC=CC2=N1\")\n",
    "docking_result = pymol.run_smina_docking(\"Dock\", \"XXX\")"
   ]
  },
  {
   "cell_type": "code",
   "execution_count": null,
   "id": "2fda438a",
   "metadata": {},
   "outputs": [],
   "source": []
  },
  {
   "cell_type": "code",
   "execution_count": 5,
   "id": "7025a742",
   "metadata": {},
   "outputs": [],
   "source": [
    "import rdkit.Chem as rdChem"
   ]
  },
  {
   "cell_type": "code",
   "execution_count": 6,
   "id": "cec5cb0a",
   "metadata": {},
   "outputs": [],
   "source": [
    "def pose_buster_processer(mol_pred: Path, mol_crystal: Path, mol_prot: Path):\n",
    "    from posebusters import PoseBusters\n",
    "    buster = PoseBusters()\n",
    "    df = buster.bust(mol_pred, mol_crystal, mol_prot)\n",
    "    df.reset_index(drop=False, inplace=True)\n",
    "    bool_columns = df.select_dtypes(include=[bool]).columns\n",
    "    success_rate_series = df[bool_columns].mean(axis=1) * 100\n",
    "    success_rate_list = success_rate_series.tolist()\n",
    "    \n",
    "    # Read all molecules first\n",
    "    mol_list = list(rdChem.SDMolSupplier(mol_pred.as_posix()))\n",
    "    \n",
    "    # Create a temporary file path\n",
    "    temp_path = mol_pred.parent / f\"temp_{mol_pred.name}\"\n",
    "    \n",
    "    # Write to temporary file\n",
    "    with rdChem.SDWriter(temp_path.as_posix()) as writer:\n",
    "        for pose, success_rate in zip(mol_list, success_rate_list):\n",
    "            pose.SetProp(\"Compliance\", str(success_rate))  # Convert to string\n",
    "            writer.write(pose)\n",
    "    \n",
    "    # Replace original file with temporary file\n",
    "    temp_path.replace(mol_pred)\n",
    "    \n",
    "    return mol_pred"
   ]
  },
  {
   "cell_type": "code",
   "execution_count": null,
   "id": "a80fd385",
   "metadata": {},
   "outputs": [],
   "source": [
    "pose_buster_processer(docking_result, pymol.crystal_sdf, pymol.protein_preared)"
   ]
  },
  {
   "cell_type": "code",
   "execution_count": null,
   "id": "6445f063",
   "metadata": {},
   "outputs": [],
   "source": []
  },
  {
   "cell_type": "code",
   "execution_count": null,
   "id": "719c0e2b",
   "metadata": {},
   "outputs": [],
   "source": []
  },
  {
   "cell_type": "code",
   "execution_count": null,
   "id": "4231af20",
   "metadata": {},
   "outputs": [],
   "source": [
    "buster = PoseBusters()"
   ]
  },
  {
   "cell_type": "code",
   "execution_count": null,
   "id": "5df22a34",
   "metadata": {},
   "outputs": [],
   "source": [
    "df = buster.bust(docking_result, pymol.crystal_sdf, pymol.protein_preared).reset_index(drop=False)"
   ]
  },
  {
   "cell_type": "code",
   "execution_count": 18,
   "id": "3ee36f41",
   "metadata": {},
   "outputs": [],
   "source": [
    "bool_columns = df.select_dtypes(include=[bool]).columns\n",
    "X = df[bool_columns].mean(axis=1) * 100"
   ]
  },
  {
   "cell_type": "code",
   "execution_count": null,
   "id": "7d99738c",
   "metadata": {},
   "outputs": [],
   "source": [
    "success_rate_list = X.tolist()"
   ]
  },
  {
   "cell_type": "code",
   "execution_count": null,
   "id": "d230b261",
   "metadata": {},
   "outputs": [],
   "source": []
  },
  {
   "cell_type": "code",
   "execution_count": null,
   "id": "cddcc90e",
   "metadata": {},
   "outputs": [],
   "source": []
  },
  {
   "cell_type": "code",
   "execution_count": null,
   "id": "6c23d87a",
   "metadata": {},
   "outputs": [],
   "source": [
    "df = buster.bust(\"./XXX.sdf\", \"./Crystal.sdf\", \"./LAC3.pdb\")"
   ]
  },
  {
   "cell_type": "code",
   "execution_count": 30,
   "id": "1aa336d2",
   "metadata": {},
   "outputs": [],
   "source": [
    "df.reset_index(drop=False, inplace=True)"
   ]
  },
  {
   "cell_type": "code",
   "execution_count": 32,
   "id": "2924b9c2",
   "metadata": {},
   "outputs": [],
   "source": [
    "bool_columns = df.select_dtypes(include=[bool]).columns"
   ]
  },
  {
   "cell_type": "code",
   "execution_count": 34,
   "id": "7a8b7a4d",
   "metadata": {},
   "outputs": [],
   "source": [
    "df['success_rate'] = df[bool_columns].mean(axis=1) * 100"
   ]
  },
  {
   "cell_type": "code",
   "execution_count": null,
   "id": "18709d70",
   "metadata": {},
   "outputs": [],
   "source": [
    "df"
   ]
  },
  {
   "cell_type": "code",
   "execution_count": null,
   "id": "710eeb2b",
   "metadata": {},
   "outputs": [],
   "source": []
  },
  {
   "cell_type": "code",
   "execution_count": null,
   "id": "b4ac5d7e",
   "metadata": {},
   "outputs": [],
   "source": []
  },
  {
   "cell_type": "code",
   "execution_count": null,
   "id": "298304cd",
   "metadata": {},
   "outputs": [],
   "source": [
    "plants = Plants_Docking(Path(\"./LAC3.pdb\"), \"c1ccccc1\")\n",
    "plants.run_plants_docking(10)"
   ]
  }
 ],
 "metadata": {
  "kernelspec": {
   "display_name": "cheminf_3_11",
   "language": "python",
   "name": "python3"
  },
  "language_info": {
   "codemirror_mode": {
    "name": "ipython",
    "version": 3
   },
   "file_extension": ".py",
   "mimetype": "text/x-python",
   "name": "python",
   "nbconvert_exporter": "python",
   "pygments_lexer": "ipython3",
   "version": "3.11.8"
  }
 },
 "nbformat": 4,
 "nbformat_minor": 5
}
