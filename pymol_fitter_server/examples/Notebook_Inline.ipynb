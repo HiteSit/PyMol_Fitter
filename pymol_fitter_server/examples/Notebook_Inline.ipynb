{
 "cells": [
  {
   "cell_type": "code",
   "execution_count": 1,
   "metadata": {},
   "outputs": [],
   "source": [
    "import os\n",
    "import sys\n",
    "\n",
    "from pathlib import Path\n",
    "from rdkit import Chem as rdChem\n",
    "from tempfile import NamedTemporaryFile, gettempdir\n",
    "\n",
    "sys.path.append(\"../\")"
   ]
  },
  {
   "cell_type": "code",
   "execution_count": 2,
   "metadata": {},
   "outputs": [],
   "source": [
    "from pymol_fitter_src.Docking_Engine import Pymol_Docking\n",
    "from pymol_fitter_src.Protein_Minimization import minimize_complex"
   ]
  },
  {
   "cell_type": "code",
   "execution_count": 7,
   "metadata": {},
   "outputs": [
    {
     "name": "stdout",
     "output_type": "stream",
     "text": [
      "gaff-1.4\n",
      "gaff-1.8\n",
      "gaff-1.81\n",
      "gaff-2.1\n",
      "gaff-2.11\n",
      "ff14sb_off_impropers_0.0.3\n",
      "ff14sb_off_impropers_0.0.2\n",
      "ff14sb_off_impropers_0.0.4\n",
      "ff14sb_off_impropers_0.0.1\n",
      "smirnoff99Frosst-1.0.0\n",
      "smirnoff99Frosst-1.0.7\n",
      "smirnoff99Frosst-1.0.3\n",
      "smirnoff99Frosst-1.0.8\n",
      "smirnoff99Frosst-1.0.1\n",
      "smirnoff99Frosst-1.1.0\n",
      "smirnoff99Frosst-1.0.4\n",
      "smirnoff99Frosst-1.0.5\n",
      "smirnoff99Frosst-1.0.9\n",
      "smirnoff99Frosst-1.0.2\n",
      "smirnoff99Frosst-1.0.6\n",
      "tip5p-1.0.0\n",
      "openff-2.1.0-rc.1\n",
      "tip3p-1.0.0\n",
      "openff-1.0.1\n",
      "openff-2.0.0-rc.2\n",
      "opc3-1.0.1\n",
      "tip3p_fb-1.1.0\n",
      "tip4p_ew-1.0.0\n",
      "opc-1.0.1\n",
      "openff-1.3.1-alpha.1\n",
      "opc3\n",
      "tip4p_ew\n",
      "spce\n",
      "tip3p-1.0.1\n",
      "openff-1.2.0\n",
      "tip3p_fb-1.0.0\n",
      "tip4p_fb-1.0.0\n",
      "openff-2.0.0-rc.1\n",
      "opc\n",
      "opc-1.0.0\n",
      "tip4p_fb\n",
      "openff-2.0.0\n",
      "openff-1.3.0\n",
      "openff-1.3.1\n",
      "tip3p\n",
      "openff-1.1.0\n",
      "opc-1.0.2\n",
      "opc3-1.0.0\n",
      "tip3p_fb-1.1.1\n",
      "openff-2.2.0-rc1\n",
      "openff-2.1.0\n",
      "openff-1.0.0-RC1\n",
      "tip3p_fb\n",
      "spce-1.0.0\n",
      "openff-1.0.0-RC2\n",
      "tip4p_fb-1.0.1\n",
      "openff-1.0.0\n",
      "openff-1.1.1\n",
      "openff-1.2.1\n",
      "openff-2.1.1\n",
      "tip5p\n",
      "espaloma-0.2.2\n"
     ]
    }
   ],
   "source": [
    "from openmmforcefields.generators import SystemGenerator\n",
    "\n",
    "# List all available small molecule force fields\n",
    "mylist = SystemGenerator.SMALL_MOLECULE_FORCEFIELDS\n",
    "for x in mylist:\n",
    "    print(x)\n"
   ]
  },
  {
   "cell_type": "code",
   "execution_count": 9,
   "metadata": {},
   "outputs": [],
   "source": [
    "protein = \"./LAC3.pdb\"\n",
    "crystal = \"./Crystal.sdf\"\n",
    "ligand = \"./Lig_Min.sdf\""
   ]
  },
  {
   "cell_type": "code",
   "execution_count": 10,
   "metadata": {},
   "outputs": [],
   "source": [
    "protein = \"./8gcy.pdb\"\n",
    "ligand = \"8gcy_Crystal.sdf\"\n",
    "crystal = \"8gcy_Crystal.sdf\""
   ]
  },
  {
   "cell_type": "code",
   "execution_count": null,
   "metadata": {},
   "outputs": [],
   "source": [
    "docking = Pymol_Docking(protein, ligand, crystal)\n",
    "\n",
    "docked_path, protein_path, log_path = docking.run_smina_docking(\"Minimize\", \"XXX\")\n",
    "# protein_complex = docking.run_complex_minimization(protein_path, docked_path)"
   ]
  },
  {
   "cell_type": "code",
   "execution_count": null,
   "metadata": {},
   "outputs": [],
   "source": [
    "docking.cdpk_fixer(ligand, \"Minimize\")"
   ]
  },
  {
   "cell_type": "code",
   "execution_count": 13,
   "metadata": {},
   "outputs": [],
   "source": [
    "sys.path.append(\"../pymol_docking_src\")"
   ]
  },
  {
   "cell_type": "code",
   "execution_count": 14,
   "metadata": {},
   "outputs": [],
   "source": [
    "from CDPK_Utils import CDPK_Runner"
   ]
  },
  {
   "cell_type": "code",
   "execution_count": 18,
   "metadata": {},
   "outputs": [],
   "source": [
    "cdpk_runner = CDPK_Runner(standardize=True, protonate=True, gen3d=False)"
   ]
  },
  {
   "cell_type": "code",
   "execution_count": 19,
   "metadata": {},
   "outputs": [],
   "source": [
    "cdpk_runner.prepare_ligands(ligand, \"DIOCANE.sdf\")"
   ]
  },
  {
   "cell_type": "code",
   "execution_count": null,
   "metadata": {},
   "outputs": [],
   "source": []
  }
 ],
 "metadata": {
  "kernelspec": {
   "display_name": "cheminf_3_11",
   "language": "python",
   "name": "python3"
  },
  "language_info": {
   "codemirror_mode": {
    "name": "ipython",
    "version": 3
   },
   "file_extension": ".py",
   "mimetype": "text/x-python",
   "name": "python",
   "nbconvert_exporter": "python",
   "pygments_lexer": "ipython3",
   "version": "3.11.8"
  }
 },
 "nbformat": 4,
 "nbformat_minor": 2
}
