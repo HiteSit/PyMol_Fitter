{
 "cells": [
  {
   "cell_type": "code",
   "execution_count": 7,
   "metadata": {},
   "outputs": [],
   "source": [
    "import os\n",
    "import sys\n",
    "\n",
    "from pathlib import Path\n",
    "from rdkit import Chem as rdChem\n",
    "from tempfile import NamedTemporaryFile, gettempdir\n",
    "\n",
    "sys.path.append(\"../\")"
   ]
  },
  {
   "cell_type": "code",
   "execution_count": 8,
   "metadata": {},
   "outputs": [],
   "source": [
    "from pymol_docking_src.Docking_Engine import Pymol_Docking\n",
    "from pymol_docking_src.Protein_Minimization import minimize_complex"
   ]
  },
  {
   "cell_type": "code",
   "execution_count": 9,
   "metadata": {},
   "outputs": [],
   "source": [
    "protein = \"./LAC3.pdb\"\n",
    "crystal = \"./Crystal.sdf\"\n",
    "ligand = \"./Lig_Min.sdf\""
   ]
  },
  {
   "cell_type": "code",
   "execution_count": 10,
   "metadata": {},
   "outputs": [],
   "source": [
    "protein = \"./8gcy.pdb\"\n",
    "ligand = \"8gcy_Crystal.sdf\"\n",
    "crystal = \"8gcy_Crystal.sdf\""
   ]
  },
  {
   "cell_type": "code",
   "execution_count": null,
   "metadata": {},
   "outputs": [],
   "source": [
    "docking = Pymol_Docking(protein, ligand, crystal)\n",
    "\n",
    "docked_path, protein_path, log_path = docking.run_smina_docking(\"Minimize\", \"XXX\")\n",
    "# protein_complex = docking.run_complex_minimization(protein_path, docked_path)"
   ]
  },
  {
   "cell_type": "code",
   "execution_count": null,
   "metadata": {},
   "outputs": [],
   "source": [
    "docking.cdpk_fixer(ligand, \"Minimize\")"
   ]
  },
  {
   "cell_type": "code",
   "execution_count": 13,
   "metadata": {},
   "outputs": [],
   "source": [
    "sys.path.append(\"../pymol_docking_src\")"
   ]
  },
  {
   "cell_type": "code",
   "execution_count": 14,
   "metadata": {},
   "outputs": [],
   "source": [
    "from CDPK_Utils import CDPK_Runner"
   ]
  },
  {
   "cell_type": "code",
   "execution_count": 18,
   "metadata": {},
   "outputs": [],
   "source": [
    "cdpk_runner = CDPK_Runner(standardize=True, protonate=True, gen3d=False)"
   ]
  },
  {
   "cell_type": "code",
   "execution_count": 19,
   "metadata": {},
   "outputs": [],
   "source": [
    "cdpk_runner.prepare_ligands(ligand, \"DIOCANE.sdf\")"
   ]
  },
  {
   "cell_type": "code",
   "execution_count": null,
   "metadata": {},
   "outputs": [],
   "source": []
  }
 ],
 "metadata": {
  "kernelspec": {
   "display_name": "cheminf_3_11",
   "language": "python",
   "name": "python3"
  },
  "language_info": {
   "codemirror_mode": {
    "name": "ipython",
    "version": 3
   },
   "file_extension": ".py",
   "mimetype": "text/x-python",
   "name": "python",
   "nbconvert_exporter": "python",
   "pygments_lexer": "ipython3",
   "version": "3.11.8"
  }
 },
 "nbformat": 4,
 "nbformat_minor": 2
}
