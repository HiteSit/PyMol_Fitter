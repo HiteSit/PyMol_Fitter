{
 "cells": [
  {
   "cell_type": "code",
   "execution_count": 8,
   "metadata": {},
   "outputs": [],
   "source": [
    "import os\n",
    "import sys\n",
    "\n",
    "from openmmforcefields.generators import SMIRNOFFTemplateGenerator\n",
    "from openmmforcefields.generators import GAFFTemplateGenerator\n",
    "from openmmforcefields.generators import EspalomaTemplateGenerator\n",
    "\n",
    "from pathlib import Path"
   ]
  },
  {
   "cell_type": "code",
   "execution_count": 9,
   "metadata": {},
   "outputs": [],
   "source": [
    "sys.path.append(\"../pymol_fitter_plugin\")\n",
    "from client import PyMOLDockingClient"
   ]
  },
  {
   "cell_type": "code",
   "execution_count": 10,
   "metadata": {},
   "outputs": [
    {
     "data": {
      "text/plain": [
       "True"
      ]
     },
     "execution_count": 10,
     "metadata": {},
     "output_type": "execute_result"
    }
   ],
   "source": [
    "client = PyMOLDockingClient()\n",
    "client.check_health()"
   ]
  },
  {
   "cell_type": "code",
   "execution_count": null,
   "metadata": {},
   "outputs": [],
   "source": []
  },
  {
   "cell_type": "code",
   "execution_count": 17,
   "metadata": {},
   "outputs": [],
   "source": [
    "prot =\"./LAC3.pdb\"\n",
    "lig = \"./Lig_Min.sdf\"\n",
    "crystal = \"./Crystal.sdf\""
   ]
  },
  {
   "cell_type": "code",
   "execution_count": 18,
   "metadata": {},
   "outputs": [],
   "source": [
    "# prot = \"./8gcy.pdb\"\n",
    "# lig = \"./8gcy_Crystal.sdf\"\n",
    "# # lig = \"c1ccccc1\"\n",
    "# crystal = \"./8gcy_Crystal.sdf\""
   ]
  },
  {
   "cell_type": "code",
   "execution_count": 19,
   "metadata": {},
   "outputs": [],
   "source": [
    "# client.dock_minimize(\n",
    "#     protein_file=prot,\n",
    "#     ligand=lig,\n",
    "#     crystal_file=crystal,\n",
    "#     dock_mode=\"Minimize\",\n",
    "#     output_name=\"TMP\",\n",
    "#     minimize=False,\n",
    "#     is_smiles=False\n",
    "# )"
   ]
  },
  {
   "cell_type": "code",
   "execution_count": 20,
   "metadata": {},
   "outputs": [],
   "source": [
    "# client.virtual_screen(\n",
    "#     protein_file=prot,\n",
    "#     ligand=lig,\n",
    "#     crystal_file=crystal,\n",
    "#     is_smiles=True,\n",
    "#     output_name=\"TMP\",\n",
    "#     output_dir=\".\"\n",
    "# )"
   ]
  },
  {
   "cell_type": "code",
   "execution_count": 21,
   "metadata": {},
   "outputs": [
    {
     "data": {
      "text/plain": [
       "{'minimized_complex': PosixPath('minimized_complex.pdb')}"
      ]
     },
     "execution_count": 21,
     "metadata": {},
     "output_type": "execute_result"
    }
   ],
   "source": [
    "client.inplace_minimization(\n",
    "    protein_file=prot,\n",
    "    ligand=lig,\n",
    "    output_dir=\".\"\n",
    ")"
   ]
  },
  {
   "cell_type": "code",
   "execution_count": null,
   "metadata": {},
   "outputs": [],
   "source": []
  },
  {
   "cell_type": "code",
   "execution_count": null,
   "metadata": {},
   "outputs": [],
   "source": []
  }
 ],
 "metadata": {
  "kernelspec": {
   "display_name": "cheminf_3_11",
   "language": "python",
   "name": "python3"
  },
  "language_info": {
   "codemirror_mode": {
    "name": "ipython",
    "version": 3
   },
   "file_extension": ".py",
   "mimetype": "text/x-python",
   "name": "python",
   "nbconvert_exporter": "python",
   "pygments_lexer": "ipython3",
   "version": "3.11.8"
  }
 },
 "nbformat": 4,
 "nbformat_minor": 2
}
