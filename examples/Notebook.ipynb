{
 "cells": [
  {
   "cell_type": "code",
   "execution_count": 1,
   "metadata": {},
   "outputs": [],
   "source": [
    "import os\n",
    "import sys\n",
    "\n",
    "from pathlib import Path\n",
    "from rdkit import Chem as rdChem\n",
    "from tempfile import NamedTemporaryFile, gettempdir\n",
    "\n",
    "sys.path.append(\"../\")"
   ]
  },
  {
   "cell_type": "code",
   "execution_count": 2,
   "metadata": {},
   "outputs": [],
   "source": [
    "from pymol_docking_plugin.Docking_Engine import Pymol_Docking\n",
    "from pymol_docking_plugin.Protein_Minimization import minimize_complex"
   ]
  },
  {
   "cell_type": "code",
   "execution_count": 3,
   "metadata": {},
   "outputs": [],
   "source": [
    "protein = Path(\"./LAC3.pdb\")\n",
    "crystal = Path(\"./Crystal.sdf\")\n",
    "ligand = Path(\"./Ligand.sdf\")"
   ]
  },
  {
   "cell_type": "code",
   "execution_count": 4,
   "metadata": {},
   "outputs": [
    {
     "name": "stdout",
     "output_type": "stream",
     "text": [
      "Running protein preparation\n",
      "Preparing protein with ProtoSS ...\n",
      "Job 1722961f-a8bb-46b7-9a8b-bd3b2d90e2c8 completed with success\n"
     ]
    },
    {
     "name": "stderr",
     "output_type": "stream",
     "text": [
      "2025-03-27 12:36:37,874 - pymol_docking_plugin.Docking_Engine - INFO - Preparing ligands from SDF\n"
     ]
    },
    {
     "name": "stdout",
     "output_type": "stream",
     "text": [
      "Running docking\n"
     ]
    },
    {
     "name": "stderr",
     "output_type": "stream",
     "text": [
      "2025-03-27 12:36:59,800 - pymol_docking_plugin.Docking_Engine - INFO - Running pose buster\n",
      "2025-03-27 12:36:59,914 - numexpr.utils - INFO - Note: NumExpr detected 16 cores but \"NUMEXPR_MAX_THREADS\" not set, so enforcing safe limit of 8.\n",
      "2025-03-27 12:36:59,914 - numexpr.utils - INFO - NumExpr defaulting to 8 threads.\n",
      "2025-03-27 12:37:00,148 - posebusters.posebusters - INFO - Using default configuration for mode redock.\n",
      "[12:37:00] Warning: molecule is tagged as 2D, but at least one Z coordinate is not zero. Marking the mol as 3D.\n",
      "[12:37:00] Warning: molecule is tagged as 2D, but at least one Z coordinate is not zero. Marking the mol as 3D.\n",
      "[12:37:01] Warning: molecule is tagged as 2D, but at least one Z coordinate is not zero. Marking the mol as 3D.\n",
      "[12:37:01] Warning: molecule is tagged as 2D, but at least one Z coordinate is not zero. Marking the mol as 3D.\n",
      "[12:37:01] Warning: molecule is tagged as 2D, but at least one Z coordinate is not zero. Marking the mol as 3D.\n",
      "[12:37:01] Warning: molecule is tagged as 2D, but at least one Z coordinate is not zero. Marking the mol as 3D.\n",
      "[12:37:01] Warning: molecule is tagged as 2D, but at least one Z coordinate is not zero. Marking the mol as 3D.\n",
      "[12:37:02] Warning: molecule is tagged as 2D, but at least one Z coordinate is not zero. Marking the mol as 3D.\n",
      "[12:37:02] Warning: molecule is tagged as 2D, but at least one Z coordinate is not zero. Marking the mol as 3D.\n",
      "[12:37:02] Warning: molecule is tagged as 2D, but at least one Z coordinate is not zero. Marking the mol as 3D.\n",
      "[12:37:02] Warning: molecule is tagged as 2D, but at least one Z coordinate is not zero. Marking the mol as 3D.\n",
      "[12:37:02] Warning: molecule is tagged as 2D, but at least one Z coordinate is not zero. Marking the mol as 3D.\n",
      "[12:37:02] Warning: molecule is tagged as 2D, but at least one Z coordinate is not zero. Marking the mol as 3D.\n",
      "[12:37:02] Warning: molecule is tagged as 2D, but at least one Z coordinate is not zero. Marking the mol as 3D.\n",
      "[12:37:02] Warning: molecule is tagged as 2D, but at least one Z coordinate is not zero. Marking the mol as 3D.\n",
      "[12:37:02] Warning: molecule is tagged as 2D, but at least one Z coordinate is not zero. Marking the mol as 3D.\n",
      "[12:37:02] Warning: molecule is tagged as 2D, but at least one Z coordinate is not zero. Marking the mol as 3D.\n",
      "[12:37:02] Warning: molecule is tagged as 2D, but at least one Z coordinate is not zero. Marking the mol as 3D.\n"
     ]
    },
    {
     "name": "stdout",
     "output_type": "stream",
     "text": [
      "\n",
      "\n",
      "Compliance rate: 96.89\n",
      "\n",
      "\n"
     ]
    },
    {
     "name": "stderr",
     "output_type": "stream",
     "text": [
      "2025-03-27 12:37:03,608 - openmmforcefields.generators.template_generators - INFO - Requested to generate parameters for residue <Residue 222 (UNK) of chain 1>\n",
      "2025-03-27 12:37:03,616 - openmmforcefields.generators.template_generators - INFO - Generating a residue template for [H]c1c(c(c(c(c1[H])[H])[C@@]([H])(C([H])([H])c2c(c(c(c(c2[H])[H])[H])[H])[H])N([H])C(=O)C([H])([H])[C@@]3(C(=O)N(c4c(c(c(c(c4O3)[H])[H])[H])[H])[H])[H])[H])[H] using gaff-2.11\n"
     ]
    }
   ],
   "source": [
    "docking = Pymol_Docking(protein, ligand)\n",
    "\n",
    "docked_path, protein_path = docking.run_smina_docking(\"Dock\", \"XXX\")\n",
    "protein_complex = docking.run_complex_minimization(protein_path, docked_path)"
   ]
  },
  {
   "cell_type": "code",
   "execution_count": null,
   "metadata": {},
   "outputs": [],
   "source": []
  },
  {
   "cell_type": "code",
   "execution_count": null,
   "metadata": {},
   "outputs": [],
   "source": []
  },
  {
   "cell_type": "code",
   "execution_count": null,
   "metadata": {},
   "outputs": [],
   "source": []
  },
  {
   "cell_type": "code",
   "execution_count": null,
   "metadata": {},
   "outputs": [],
   "source": []
  },
  {
   "cell_type": "code",
   "execution_count": 13,
   "metadata": {},
   "outputs": [],
   "source": [
    "import datamol as dm\n",
    "\n",
    "mol = dm.read_sdf(ligand)[0]"
   ]
  },
  {
   "cell_type": "code",
   "execution_count": null,
   "metadata": {},
   "outputs": [],
   "source": [
    "minimizer = minimize_complex(protein, mol)"
   ]
  },
  {
   "cell_type": "code",
   "execution_count": 19,
   "metadata": {},
   "outputs": [],
   "source": [
    "before = minimizer[\"PDB_BEFORE\"]\n",
    "after = minimizer[\"PDB_AFTER\"]"
   ]
  },
  {
   "cell_type": "code",
   "execution_count": null,
   "metadata": {},
   "outputs": [],
   "source": []
  },
  {
   "cell_type": "code",
   "execution_count": null,
   "metadata": {},
   "outputs": [],
   "source": []
  },
  {
   "cell_type": "code",
   "execution_count": 24,
   "metadata": {},
   "outputs": [],
   "source": [
    "import biotite.structure as struc\n",
    "from biotite.structure.io import pdb"
   ]
  },
  {
   "cell_type": "code",
   "execution_count": 33,
   "metadata": {},
   "outputs": [],
   "source": [
    "def write_temp_pdb(content: str) -> str:\n",
    "    \"\"\"Write PDB content to a temporary file and return the file path.\"\"\"\n",
    "\n",
    "    tmp_file = NamedTemporaryFile(delete=False, suffix=\".pdb\")\n",
    "    with open(tmp_file.name, \"w\") as f:\n",
    "        f.write(content)\n",
    "    \n",
    "    return tmp_file.name\n",
    "\n",
    "temp_pdb_path_before = write_temp_pdb(before)\n",
    "temp_pdb_path_after = write_temp_pdb(after)\n",
    "\n",
    "struct_1 = pdb.PDBFile.read(temp_pdb_path_before).get_structure(model=1)\n",
    "struct_2 = pdb.PDBFile.read(temp_pdb_path_after).get_structure(model=1)"
   ]
  },
  {
   "cell_type": "code",
   "execution_count": 34,
   "metadata": {},
   "outputs": [],
   "source": [
    "multistate = struc.stack([struct_1, struct_2])"
   ]
  },
  {
   "cell_type": "code",
   "execution_count": 40,
   "metadata": {},
   "outputs": [],
   "source": [
    "pdb_file = pdb.PDBFile()\n",
    "pdb_file.set_structure(multistate)\n",
    "pdb_file.write(\"DIO.pdb\")"
   ]
  },
  {
   "cell_type": "code",
   "execution_count": null,
   "metadata": {},
   "outputs": [],
   "source": []
  },
  {
   "cell_type": "code",
   "execution_count": null,
   "metadata": {},
   "outputs": [],
   "source": [
    "minimizer"
   ]
  },
  {
   "cell_type": "code",
   "execution_count": null,
   "metadata": {},
   "outputs": [],
   "source": []
  }
 ],
 "metadata": {
  "kernelspec": {
   "display_name": "cheminf_3_11",
   "language": "python",
   "name": "python3"
  },
  "language_info": {
   "codemirror_mode": {
    "name": "ipython",
    "version": 3
   },
   "file_extension": ".py",
   "mimetype": "text/x-python",
   "name": "python",
   "nbconvert_exporter": "python",
   "pygments_lexer": "ipython3",
   "version": "3.11.8"
  }
 },
 "nbformat": 4,
 "nbformat_minor": 2
}
