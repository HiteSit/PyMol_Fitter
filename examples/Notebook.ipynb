{
 "cells": [
  {
   "cell_type": "code",
   "execution_count": 1,
   "metadata": {},
   "outputs": [],
   "source": [
    "import os\n",
    "import sys\n",
    "\n",
    "from pathlib import Path"
   ]
  },
  {
   "cell_type": "code",
   "execution_count": 2,
   "metadata": {},
   "outputs": [],
   "source": [
    "sys.path.append(\"../pymol_docking_plugin\")"
   ]
  },
  {
   "cell_type": "code",
   "execution_count": 3,
   "metadata": {},
   "outputs": [],
   "source": [
    "from client import PyMOLDockingClient"
   ]
  },
  {
   "cell_type": "code",
   "execution_count": 4,
   "metadata": {},
   "outputs": [],
   "source": [
    "client = PyMOLDockingClient()"
   ]
  },
  {
   "cell_type": "code",
   "execution_count": null,
   "metadata": {},
   "outputs": [],
   "source": [
    "client.check_health()"
   ]
  },
  {
   "cell_type": "code",
   "execution_count": 6,
   "metadata": {},
   "outputs": [],
   "source": [
    "prot =\"./LAC3.pdb\"\n",
    "lig = \"./Lig_Min.sdf\"\n",
    "# lig = \"c1ccccc1\"\n",
    "crystal = \"./Crystal.sdf\""
   ]
  },
  {
   "cell_type": "code",
   "execution_count": 7,
   "metadata": {},
   "outputs": [],
   "source": [
    "# prot = \"./8gcy.pdb\"\n",
    "# lig = \"./8gcy_Crystal.sdf\"\n",
    "# # lig = \"c1ccccc1\"\n",
    "# crystal = \"./8gcy_Crystal.sdf\""
   ]
  },
  {
   "cell_type": "code",
   "execution_count": 8,
   "metadata": {},
   "outputs": [],
   "source": [
    "# client.dock_minimize(\n",
    "#     protein_file=prot,\n",
    "#     ligand=lig,\n",
    "#     crystal_file=crystal,\n",
    "#     dock_mode=\"Minimize\",\n",
    "#     output_name=\"TMP\",\n",
    "#     minimize=False,\n",
    "#     is_smiles=False\n",
    "# )"
   ]
  },
  {
   "cell_type": "code",
   "execution_count": null,
   "metadata": {},
   "outputs": [],
   "source": [
    "client.inplace_minimization(\n",
    "    protein_file=prot,\n",
    "    ligand=lig,\n",
    "    output_dir=\".\"\n",
    ")"
   ]
  },
  {
   "cell_type": "code",
   "execution_count": null,
   "metadata": {},
   "outputs": [],
   "source": []
  },
  {
   "cell_type": "markdown",
   "metadata": {},
   "source": [
    "---"
   ]
  },
  {
   "cell_type": "code",
   "execution_count": null,
   "metadata": {},
   "outputs": [],
   "source": []
  },
  {
   "cell_type": "code",
   "execution_count": 2,
   "metadata": {},
   "outputs": [],
   "source": [
    "import numpy as np\n",
    "import io\n",
    "from tempfile import NamedTemporaryFile\n",
    "from pdbfixer import PDBFixer\n",
    "from typing import List, Dict, Any, Optional, Union, Tuple, TypeVar, IO, BinaryIO, TextIO\n",
    "from pathlib import Path\n",
    "import os\n",
    "import tempfile\n",
    "\n",
    "# Biotite\n",
    "import biotite.structure.io.pdb as pdb\n",
    "from biotite.structure import AtomArray\n",
    "\n",
    "# RDKit\n",
    "from rdkit import Chem\n",
    "from rdkit.Chem import AllChem\n",
    "\n",
    "# OpenMM Application Layer\n",
    "from openmm import app\n",
    "from openmm.app import (\n",
    "    Modeller, Simulation, PDBFile, DCDReporter, \n",
    "    StateDataReporter, CheckpointReporter\n",
    ")\n",
    "\n",
    "# OpenMM Library Layer\n",
    "from openmm import (\n",
    "    Platform, LangevinIntegrator, MonteCarloBarostat,\n",
    "    CustomExternalForce, State, System, Context\n",
    ")\n",
    "\n",
    "# OpenMM Units\n",
    "from openmm import unit\n",
    "from openmm.unit import Quantity\n",
    "import datamol as dm\n",
    "\n",
    "# OPENFF\n",
    "from openff.toolkit import Molecule\n",
    "from openmmforcefields.generators import SystemGenerator\n",
    "\n",
    "# Type for OpenMM unit quantities\n",
    "UnitQuantity = Quantity"
   ]
  },
  {
   "cell_type": "code",
   "execution_count": 7,
   "metadata": {},
   "outputs": [],
   "source": [
    "from openmmforcefields.generators import (\n",
    "    EspalomaTemplateGenerator,\n",
    ")"
   ]
  },
  {
   "cell_type": "code",
   "execution_count": 8,
   "metadata": {},
   "outputs": [],
   "source": [
    "prot =\"./LAC3.pdb\"\n",
    "lig = \"./Lig_Min.sdf\"\n",
    "\n",
    "lig_mol = dm.read_sdf(lig)[0]"
   ]
  },
  {
   "cell_type": "code",
   "execution_count": 9,
   "metadata": {},
   "outputs": [],
   "source": [
    "fixer: PDBFixer = PDBFixer(str(prot))\n",
    "fixer.removeHeterogens(keepWater=False)\n",
    "fixer.findMissingResidues()\n",
    "fixer.findMissingAtoms()\n",
    "fixer.findNonstandardResidues()\n",
    "fixer.replaceNonstandardResidues()\n",
    "\n",
    "fixer.addMissingAtoms()\n",
    "fixer.addMissingHydrogens(7.4)\n",
    "\n",
    "# Parse the ligand\n",
    "ligand_mol: Molecule = Molecule.from_rdkit(lig_mol)\n",
    "lig_top = ligand_mol.to_topology()\n",
    "\n",
    "# Merge the ligand into the protein\n",
    "modeller: Modeller = Modeller(fixer.topology, fixer.positions)\n",
    "modeller.add(lig_top.to_openmm(), lig_top.get_positions().to_openmm())"
   ]
  },
  {
   "cell_type": "code",
   "execution_count": 5,
   "metadata": {},
   "outputs": [],
   "source": [
    "# Create the forcefield\n",
    "forcefield_kwargs: Dict[str, Any] = { \n",
    "    'constraints': app.HBonds, \n",
    "    'hydrogenMass': 4*unit.amu \n",
    "}"
   ]
  },
  {
   "cell_type": "code",
   "execution_count": null,
   "metadata": {},
   "outputs": [],
   "source": [
    "\n",
    "# Set up the system generator with appropriate forcefields\n",
    "system_generator: SystemGenerator = SystemGenerator(\n",
    "    forcefields=['amber/ff14SB.xml', 'amber/tip3p_standard.xml'],\n",
    "    small_molecule_forcefield='espaloma-0.3.2',\n",
    "    molecules=[ligand_mol],\n",
    "    forcefield_kwargs=forcefield_kwargs\n",
    ")"
   ]
  },
  {
   "cell_type": "code",
   "execution_count": null,
   "metadata": {},
   "outputs": [],
   "source": []
  }
 ],
 "metadata": {
  "kernelspec": {
   "display_name": "cheminf_3_11",
   "language": "python",
   "name": "python3"
  },
  "language_info": {
   "codemirror_mode": {
    "name": "ipython",
    "version": 3
   },
   "file_extension": ".py",
   "mimetype": "text/x-python",
   "name": "python",
   "nbconvert_exporter": "python",
   "pygments_lexer": "ipython3",
   "version": "3.11.8"
  }
 },
 "nbformat": 4,
 "nbformat_minor": 2
}
